{
 "cells": [
  {
   "cell_type": "code",
   "execution_count": null,
   "metadata": {},
   "outputs": [],
   "source": [
    "from oracle import Oracle\n",
    "from optimizers import SGD, AdaGrad, Momentum, RMSprop, ADAM"
   ]
  },
  {
   "cell_type": "code",
   "execution_count": null,
   "metadata": {},
   "outputs": [],
   "source": [
    "import numpy as np\n",
    "import copy\n",
    "import matplotlib.pyplot as plt\n",
    "import seaborn as sns\n",
    "\n",
    "def run_experiments(number_of_customers = 10, number_of_suppliers = 5, number_of_products = 20, number_of_groups = 5, seed=0):\n",
    "   np.random.seed(seed)\n",
    "\n",
    "   oracle_obj = Oracle(s=number_of_suppliers, d=number_of_customers, n=number_of_products, m=number_of_groups)\n",
    "\n",
    "   oracle_sgd = copy.deepcopy(oracle_obj)\n",
    "   sgd = SGD(oracle_sgd, 1000, 0.05)\n",
    "   results_sgd = sgd.update()\n",
    "\n",
    "   oracle_adagrad = copy.deepcopy(oracle_obj)\n",
    "   adagrad = AdaGrad(oracle_adagrad, 1000, 0.05)\n",
    "   results_adagrad = adagrad.update()\n",
    "\n",
    "   oracle_adam = copy.deepcopy(oracle_obj)\n",
    "   adam = ADAM(oracle_adam, 1000, 0.001)\n",
    "   results_adam = adam.update()\n",
    "\n",
    "   oracle_momentum = copy.deepcopy(oracle_obj)\n",
    "   momentum = Momentum(oracle_momentum, 1000, 0.001)\n",
    "   results_momentum = momentum.update()\n",
    "\n",
    "   oracle_rmsprop = copy.deepcopy(oracle_obj)\n",
    "   rmsprop = RMSprop(oracle_rmsprop, 1000, 0.05)\n",
    "   results_rmsprop = rmsprop.update()\n",
    "\n",
    "   lst = [oracle_obj.compute_cost_func(oracle_obj.final_price),\n",
    "      oracle_sgd.compute_cost_func(oracle_sgd.final_price),\n",
    "      oracle_adagrad.compute_cost_func(oracle_adagrad.final_price),\n",
    "      oracle_adam.compute_cost_func(oracle_adam.final_price),\n",
    "      oracle_momentum.compute_cost_func(oracle_momentum.final_price),\n",
    "      oracle_rmsprop.compute_cost_func(oracle_rmsprop.final_price)]\n",
    "\n",
    "   optimal_solution = min(lst)\n",
    "   return optimal_solution, results_sgd, results_adagrad, results_adam, results_momentum, results_rmsprop\n",
    "\n",
    "\n",
    "def plot_results(optimal_solution, results_sgd, results_adagrad, results_adam, results_momentum, results_rmsprop, filename):\n",
    "   sns.set(style=\"darkgrid\", font_scale=1.2)\n",
    "\n",
    "   plt.plot(np.array(results_adagrad) - optimal_solution, label=\"AdaGrad\")\n",
    "   plt.plot(np.array(results_sgd) - optimal_solution, label=\"SGD\")\n",
    "   plt.plot(np.array(results_adam) - optimal_solution, label=\"ADAM\")\n",
    "   plt.plot(np.array(results_rmsprop) - optimal_solution, label=\"RMSprop\")\n",
    "   plt.plot(np.array(results_momentum) - optimal_solution, label=\"Momentum\")\n",
    "   plt.xlabel(\"Iteration\")\n",
    "   plt.ylabel(\"f - $f_{opt}$\")\n",
    "   plt.legend()\n",
    "   plt.title(\"Dependence (f - $f_{opt}$) over oracle calls\")\n",
    "   plt.ylim(bottom=0)\n",
    "   plt.savefig(filename)\n",
    "   plt.show()"
   ]
  },
  {
   "cell_type": "code",
   "execution_count": null,
   "metadata": {},
   "outputs": [],
   "source": [
    "plot_results(*run_experiments(number_of_groups=1), \"10_5_20_1.png\")"
   ]
  },
  {
   "cell_type": "code",
   "execution_count": null,
   "metadata": {},
   "outputs": [],
   "source": [
    "# optimal_solution, results_sgd, results_adagrad, results_adam, results_momentum, results_rmsprop = run_experiments()\n",
    "# plot_results(optimal_solution, results_sgd, results_adagrad, results_adam, results_momentum, results_rmsprop, \"results.png\")"
   ]
  },
  {
   "cell_type": "code",
   "execution_count": null,
   "metadata": {},
   "outputs": [],
   "source": [
    "list_number_of_customers = [5, 10]\n",
    "list_number_of_suppliers = [5, 10]\n",
    "list_number_of_products = [20, 50]\n",
    "list_number_of_groups = [5]\n",
    "\n",
    "\n",
    "for number_of_customers in list_number_of_customers:\n",
    "    for number_of_suppliers in list_number_of_suppliers:\n",
    "        for number_of_products in list_number_of_products:\n",
    "            for number_of_groups in list_number_of_groups:\n",
    "                message = str(\"number_of_customers: \" + str(number_of_customers) + \"number_of_suppliers: \" + str(number_of_suppliers) + \"number_of_products: \" + str(number_of_products) + \"number_of_groups: \" + str(number_of_groups))\n",
    "                print(message)\n",
    "                optimal_solution, results_sgd, results_adagrad, results_adam, results_momentum, results_rmsprop = run_experiments(number_of_customers, number_of_suppliers, number_of_products, number_of_groups)\n",
    "                plot_results(optimal_solution, results_sgd, results_adagrad, results_adam, results_momentum, results_rmsprop, filename=str(number_of_customers)+'_'+str(number_of_suppliers)+'_'+str(number_of_products)+'_'+str(number_of_groups)+'.png')"
   ]
  }
 ],
 "metadata": {
  "kernelspec": {
   "display_name": "venv",
   "language": "python",
   "name": "python3"
  },
  "language_info": {
   "codemirror_mode": {
    "name": "ipython",
    "version": 3
   },
   "file_extension": ".py",
   "mimetype": "text/x-python",
   "name": "python",
   "nbconvert_exporter": "python",
   "pygments_lexer": "ipython3",
   "version": "3.10.11"
  }
 },
 "nbformat": 4,
 "nbformat_minor": 2
}
